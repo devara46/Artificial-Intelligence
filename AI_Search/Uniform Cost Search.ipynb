{
 "cells": [
  {
   "cell_type": "code",
   "execution_count": 1,
   "metadata": {},
   "outputs": [],
   "source": [
    "import queue as Q"
   ]
  },
  {
   "cell_type": "code",
   "execution_count": 2,
   "metadata": {},
   "outputs": [],
   "source": [
    "def search(graph, start, end):\n",
    "    if start not in graph:\n",
    "        raise TypeError(str(start) + ' not found in graph !')\n",
    "        return\n",
    "    if end not in graph:\n",
    "        raise TypeError(str(end) + ' not found in graph !')\n",
    "        return\n",
    "    \n",
    "    queue = Q.PriorityQueue()\n",
    "    queue.put((0, [start]))\n",
    "    \n",
    "    while not queue.empty():\n",
    "        node = queue.get()\n",
    "        current = node[1][len(node[1]) - 1]\n",
    "        \n",
    "        if end in node[1]:\n",
    "            print(\"Path found: \" + str(node[1]) + \", Cost = \" + str(node[0]))\n",
    "            break\n",
    "        \n",
    "        cost = node[0]\n",
    "        for neighbor in graph[current]:\n",
    "            temp = node[1][:]\n",
    "            temp.append(neighbor)\n",
    "            queue.put((cost + graph[current][neighbor], temp))"
   ]
  },
  {
   "cell_type": "code",
   "execution_count": 26,
   "metadata": {},
   "outputs": [],
   "source": [
    "def readGraph():\n",
    "    lines = int( input() )\n",
    "    graph = {}\n",
    "    \n",
    "    for line in range(lines):\n",
    "        line = input()\n",
    "            \n",
    "        tokens = line.split()\n",
    "        node = tokens[0]\n",
    "        graph[node] = {}\n",
    "        \n",
    "        for i in range(1, len(tokens) - 1, 2):\n",
    "            # print(node, tokens[i], tokens[i + 1])\n",
    "            # graph.addEdge(node, tokens[i], int(tokens[i + 1]))\n",
    "            graph[node][tokens[i]] = int(tokens[i + 1])\n",
    "    return graph"
   ]
  },
  {
   "cell_type": "code",
   "execution_count": 29,
   "metadata": {},
   "outputs": [],
   "source": [
    "graphFile='graph.csv'\n",
    "def loadGraph(graphFile):\n",
    "    \"\"\"\n",
    "    load graph function loads a comma separated file as a dictionary of list of dictionaries.\n",
    "    if there is a veritex a,b and there is an edge e from a to b with unit distance, the graph is represented as\n",
    "    {a:[{b:1}]}. This program assumes there is only one entry from A to B, generates B to A Distance.\n",
    "    This expects the input as a,b,1\n",
    "    \"\"\"\n",
    "    graph=defaultdict(list)\n",
    "    file=open(graphFile,'r')\n",
    "    for line in file.readlines():\n",
    "        node=line.rstrip().split(',')\n",
    "        graph[node[0]].append({node[1]:int(node[2])})\n",
    "        #Comment the following line if the a->b and b->a has two entries in the CSV.\n",
    "        graph[node[1]].append({node[0]:int(node[2])})\n",
    "        \n",
    "    return graph"
   ]
  },
  {
   "cell_type": "code",
   "execution_count": null,
   "metadata": {
    "scrolled": true
   },
   "outputs": [],
   "source": [
    "def main():\n",
    "    graph = loadGraph()\n",
    "    search(graph, 'Arad', 'Bucharest')\n",
    "    \n",
    "if __name__ == \"__main__\":\n",
    "    main()\n",
    "\n",
    "\"\"\"14\n",
    "Arad Zerind 75 Timisoara 118 Sibiu 140\n",
    "Zerind Oradea 71 Arad 75\n",
    "Timisoara Arad 118 Lugoj 111\n",
    "Sibiu Arad 140 Oradea 151 Fagaras 99 RimnicuVilcea 80\n",
    "Oradea Zerind 71 Sibiu 151\n",
    "Lugoj Timisoara 111 Mehadia 70\n",
    "RimnicuVilcea Sibiu 80 Pitesti 97 Craiova 146\n",
    "Mehadia Lugoj 70 Dobreta 75\n",
    "Craiova Dobreta 120 RimnicuVilcea 146 Pitesti 138\n",
    "Pitesti RimnicuVilcea 97 Craiova 138 Bucharest 101\n",
    "Fagaras Sibiu 99 Bucharest 211\n",
    "Dobreta Mehadia 75 Craiova 120\n",
    "Bucharest Fagaras 211 Pitesti 101 Giurgiu 90\n",
    "Giurgiu Bucharest 90\"\"\""
   ]
  },
  {
   "cell_type": "code",
   "execution_count": null,
   "metadata": {},
   "outputs": [],
   "source": []
  }
 ],
 "metadata": {
  "kernelspec": {
   "display_name": "Python 3",
   "language": "python",
   "name": "python3"
  },
  "language_info": {
   "codemirror_mode": {
    "name": "ipython",
    "version": 3
   },
   "file_extension": ".py",
   "mimetype": "text/x-python",
   "name": "python",
   "nbconvert_exporter": "python",
   "pygments_lexer": "ipython3",
   "version": "3.7.3"
  }
 },
 "nbformat": 4,
 "nbformat_minor": 2
}
